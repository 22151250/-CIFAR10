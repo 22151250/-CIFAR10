{
 "cells": [
  {
   "cell_type": "code",
   "execution_count": 2,
   "metadata": {
    "_cell_guid": "79c7e3d0-c299-4dcb-8224-4455121ee9b0",
    "_uuid": "d629ff2d2480ee46fbb7e2d37f6b5fab8052498a",
    "colab": {
     "base_uri": "https://localhost:8080/"
    },
    "id": "gcTSfiR4cQYK",
    "outputId": "1e767d0e-e0fb-41bd-87f0-a7b494b586f7"
   },
   "outputs": [
    {
     "name": "stdout",
     "output_type": "stream",
     "text": [
      "2.5.0\n",
      "sys.version_info(major=3, minor=7, micro=11, releaselevel='final', serial=0)\n",
      "matplotlib 3.2.2\n",
      "numpy 1.19.5\n",
      "pandas 1.1.5\n",
      "sklearn 0.22.2.post1\n",
      "tensorflow 2.5.0\n",
      "tensorflow.keras 2.5.0\n"
     ]
    }
   ],
   "source": [
    "%matplotlib inline\n",
    "import matplotlib as mpl\n",
    "import matplotlib.pyplot as plt\n",
    "import numpy as np\n",
    "import os\n",
    "import pandas as pd\n",
    "import sklearn\n",
    "import sys\n",
    "import tensorflow as tf\n",
    "import time\n",
    "\n",
    "from tensorflow import keras\n",
    "\n",
    "print(tf.__version__)\n",
    "print(sys.version_info)\n",
    "for module in mpl, np, pd, sklearn, tf, keras:\n",
    "    print(module.__name__, module.__version__)"
   ]
  },
  {
   "cell_type": "code",
   "execution_count": 1,
   "metadata": {
    "colab": {
     "base_uri": "https://localhost:8080/"
    },
    "id": "bO5VT_YYEume",
    "outputId": "74b95188-f77a-4432-b5dc-8cd720986368"
   },
   "outputs": [
    {
     "name": "stdout",
     "output_type": "stream",
     "text": [
      "Tue Jul 27 08:28:44 2021       \n",
      "+-----------------------------------------------------------------------------+\n",
      "| NVIDIA-SMI 470.42.01    Driver Version: 460.32.03    CUDA Version: 11.2     |\n",
      "|-------------------------------+----------------------+----------------------+\n",
      "| GPU  Name        Persistence-M| Bus-Id        Disp.A | Volatile Uncorr. ECC |\n",
      "| Fan  Temp  Perf  Pwr:Usage/Cap|         Memory-Usage | GPU-Util  Compute M. |\n",
      "|                               |                      |               MIG M. |\n",
      "|===============================+======================+======================|\n",
      "|   0  Tesla K80           Off  | 00000000:00:04.0 Off |                    0 |\n",
      "| N/A   39C    P8    26W / 149W |      0MiB / 11441MiB |      0%      Default |\n",
      "|                               |                      |                  N/A |\n",
      "+-------------------------------+----------------------+----------------------+\n",
      "                                                                               \n",
      "+-----------------------------------------------------------------------------+\n",
      "| Processes:                                                                  |\n",
      "|  GPU   GI   CI        PID   Type   Process name                  GPU Memory |\n",
      "|        ID   ID                                                   Usage      |\n",
      "|=============================================================================|\n",
      "|  No running processes found                                                 |\n",
      "+-----------------------------------------------------------------------------+\n"
     ]
    }
   ],
   "source": [
    "!nvidia-smi"
   ]
  },
  {
   "cell_type": "code",
   "execution_count": 3,
   "metadata": {
    "colab": {
     "base_uri": "https://localhost:8080/"
    },
    "id": "4NOao51JYfzi",
    "outputId": "ed8d926e-d420-4da4-f74d-f50189f087e0"
   },
   "outputs": [
    {
     "name": "stdout",
     "output_type": "stream",
     "text": [
      "Requirement already satisfied: kaggle in /usr/local/lib/python3.7/dist-packages (1.5.12)\n",
      "Requirement already satisfied: tqdm in /usr/local/lib/python3.7/dist-packages (from kaggle) (4.41.1)\n",
      "Requirement already satisfied: python-dateutil in /usr/local/lib/python3.7/dist-packages (from kaggle) (2.8.1)\n",
      "Requirement already satisfied: requests in /usr/local/lib/python3.7/dist-packages (from kaggle) (2.23.0)\n",
      "Requirement already satisfied: python-slugify in /usr/local/lib/python3.7/dist-packages (from kaggle) (5.0.2)\n",
      "Requirement already satisfied: urllib3 in /usr/local/lib/python3.7/dist-packages (from kaggle) (1.24.3)\n",
      "Requirement already satisfied: six>=1.10 in /usr/local/lib/python3.7/dist-packages (from kaggle) (1.15.0)\n",
      "Requirement already satisfied: certifi in /usr/local/lib/python3.7/dist-packages (from kaggle) (2021.5.30)\n",
      "Requirement already satisfied: text-unidecode>=1.3 in /usr/local/lib/python3.7/dist-packages (from python-slugify->kaggle) (1.3)\n",
      "Requirement already satisfied: chardet<4,>=3.0.2 in /usr/local/lib/python3.7/dist-packages (from requests->kaggle) (3.0.4)\n",
      "Requirement already satisfied: idna<3,>=2.5 in /usr/local/lib/python3.7/dist-packages (from requests->kaggle) (2.10)\n"
     ]
    }
   ],
   "source": [
    "!pip install kaggle"
   ]
  },
  {
   "cell_type": "code",
   "execution_count": 9,
   "metadata": {
    "id": "Fi46_oyAY6qD"
   },
   "outputs": [],
   "source": [
    "import json\n",
    "token = {\"username\":\"cskaoyan\",\"key\":\"7755082acbfb31011b79c19e0b1b18ef\"}\n",
    "with open('/content/kaggle.json', 'w') as file:\n",
    "  json.dump(token, file)"
   ]
  },
  {
   "cell_type": "code",
   "execution_count": 10,
   "metadata": {
    "colab": {
     "base_uri": "https://localhost:8080/"
    },
    "id": "FBunE0OvY6ZY",
    "outputId": "b15b81d5-1736-40dc-ccac-256d263dbb4e"
   },
   "outputs": [
    {
     "name": "stdout",
     "output_type": "stream",
     "text": [
      "{\"username\": \"cskaoyan\", \"key\": \"7755082acbfb31011b79c19e0b1b18ef\"}"
     ]
    }
   ],
   "source": [
    "!cat /content/kaggle.json"
   ]
  },
  {
   "cell_type": "code",
   "execution_count": 11,
   "metadata": {
    "colab": {
     "base_uri": "https://localhost:8080/"
    },
    "id": "qXgB8rdbZIDU",
    "outputId": "cb7f3e11-e1d7-4366-e204-38755a595e70"
   },
   "outputs": [
    {
     "name": "stdout",
     "output_type": "stream",
     "text": [
      "- path is now set to: /content\n"
     ]
    }
   ],
   "source": [
    "!mkdir -p ~/.kaggle\n",
    "!cp /content/kaggle.json ~/.kaggle/\n",
    "!chmod 600 ~/.kaggle/kaggle.json\n",
    "!kaggle config set -n path -v /content"
   ]
  },
  {
   "cell_type": "code",
   "execution_count": 12,
   "metadata": {
    "colab": {
     "base_uri": "https://localhost:8080/"
    },
    "id": "Xtn4YxW2ZSI5",
    "outputId": "ceb8bfad-984b-4f78-da24-25f08bc92345"
   },
   "outputs": [
    {
     "name": "stdout",
     "output_type": "stream",
     "text": [
      "/content\n"
     ]
    }
   ],
   "source": [
    "!pwd"
   ]
  },
  {
   "cell_type": "code",
   "execution_count": null,
   "metadata": {
    "colab": {
     "base_uri": "https://localhost:8080/"
    },
    "id": "p0A-3wMTZTe2",
    "outputId": "f1bfd4ee-5b13-483f-dff7-5d0d4882c67c"
   },
   "outputs": [
    {
     "name": "stdout",
     "output_type": "stream",
     "text": [
      "Downloading 10-monkey-species.zip to /content/datasets/slothkong/10-monkey-species\n",
      " 97% 531M/547M [00:03<00:00, 238MB/s]\n",
      "100% 547M/547M [00:03<00:00, 155MB/s]\n"
     ]
    }
   ],
   "source": [
    "# !kaggle datasets download -d slothkong/10-monkey-species"
   ]
  },
  {
   "cell_type": "code",
   "execution_count": 13,
   "metadata": {
    "colab": {
     "base_uri": "https://localhost:8080/"
    },
    "id": "JL8vRjqkZg3G",
    "outputId": "764f5b0a-ca0b-4d87-bb8b-ac14099e1327"
   },
   "outputs": [
    {
     "name": "stdout",
     "output_type": "stream",
     "text": [
      "Warning: Looks like you're using an outdated API Version, please consider updating (server 1.5.12 / client 1.5.4)\n",
      "Downloading train.7z to /content/competitions/cifar-10\n",
      " 98% 103M/105M [00:02<00:00, 36.9MB/s] \n",
      "100% 105M/105M [00:02<00:00, 46.1MB/s]\n",
      "Downloading trainLabels.csv to /content/competitions/cifar-10\n",
      "  0% 0.00/575k [00:00<?, ?B/s]\n",
      "100% 575k/575k [00:00<00:00, 79.6MB/s]\n",
      "Downloading test.7z to /content/competitions/cifar-10\n",
      " 99% 601M/610M [00:07<00:00, 102MB/s] \n",
      "100% 610M/610M [00:07<00:00, 80.1MB/s]\n",
      "Downloading sampleSubmission.csv.zip to /content/competitions/cifar-10\n",
      "  0% 0.00/655k [00:00<?, ?B/s]\n",
      "100% 655k/655k [00:00<00:00, 42.9MB/s]\n"
     ]
    }
   ],
   "source": [
    "!kaggle competitions download -c cifar-10"
   ]
  },
  {
   "cell_type": "code",
   "execution_count": 14,
   "metadata": {
    "colab": {
     "base_uri": "https://localhost:8080/"
    },
    "id": "EZkDbHbEaC7x",
    "outputId": "e7ca8361-c73e-4978-ff93-cb6b426f84d2"
   },
   "outputs": [
    {
     "name": "stdout",
     "output_type": "stream",
     "text": [
      "sampleSubmission.csv.zip  test.7z  train.7z  trainLabels.csv\n"
     ]
    }
   ],
   "source": [
    "!ls /content/competitions/cifar-10"
   ]
  },
  {
   "cell_type": "code",
   "execution_count": 15,
   "metadata": {
    "colab": {
     "base_uri": "https://localhost:8080/"
    },
    "id": "gIcDMwAcaktp",
    "outputId": "0a878a4b-dae9-46d9-ff89-5b437069f628"
   },
   "outputs": [
    {
     "name": "stdout",
     "output_type": "stream",
     "text": [
      "Collecting py7zr\n",
      "  Downloading py7zr-0.16.1-py3-none-any.whl (65 kB)\n",
      "\u001b[?25l\r",
      "\u001b[K     |█████                           | 10 kB 26.0 MB/s eta 0:00:01\r",
      "\u001b[K     |██████████                      | 20 kB 19.0 MB/s eta 0:00:01\r",
      "\u001b[K     |███████████████                 | 30 kB 11.3 MB/s eta 0:00:01\r",
      "\u001b[K     |████████████████████            | 40 kB 8.8 MB/s eta 0:00:01\r",
      "\u001b[K     |█████████████████████████       | 51 kB 3.3 MB/s eta 0:00:01\r",
      "\u001b[K     |██████████████████████████████  | 61 kB 3.8 MB/s eta 0:00:01\r",
      "\u001b[K     |████████████████████████████████| 65 kB 2.1 MB/s \n",
      "\u001b[?25hCollecting multivolumefile>=0.2.3\n",
      "  Downloading multivolumefile-0.2.3-py3-none-any.whl (17 kB)\n",
      "Collecting bcj-cffi<0.6.0,>=0.5.1\n",
      "  Downloading bcj_cffi-0.5.1-cp37-cp37m-manylinux2014_x86_64.whl (36 kB)\n",
      "Requirement already satisfied: importlib-metadata in /usr/local/lib/python3.7/dist-packages (from py7zr) (4.6.1)\n",
      "Collecting texttable\n",
      "  Downloading texttable-1.6.4-py2.py3-none-any.whl (10 kB)\n",
      "Collecting pyzstd<0.15.0,>=0.14.4\n",
      "  Downloading pyzstd-0.14.4-cp37-cp37m-manylinux2014_x86_64.whl (2.2 MB)\n",
      "\u001b[K     |████████████████████████████████| 2.2 MB 14.1 MB/s \n",
      "\u001b[?25hCollecting pyppmd>=0.14.0\n",
      "  Downloading pyppmd-0.15.2-cp37-cp37m-manylinux_2_17_x86_64.manylinux2014_x86_64.whl (121 kB)\n",
      "\u001b[K     |████████████████████████████████| 121 kB 52.8 MB/s \n",
      "\u001b[?25hCollecting brotli>=1.0.9\n",
      "  Downloading Brotli-1.0.9-cp37-cp37m-manylinux1_x86_64.whl (357 kB)\n",
      "\u001b[K     |████████████████████████████████| 357 kB 41.5 MB/s \n",
      "\u001b[?25hCollecting pycryptodomex>=3.6.6\n",
      "  Downloading pycryptodomex-3.10.1-cp35-abi3-manylinux2010_x86_64.whl (1.9 MB)\n",
      "\u001b[K     |████████████████████████████████| 1.9 MB 35.6 MB/s \n",
      "\u001b[?25hRequirement already satisfied: cffi>=1.14.0 in /usr/local/lib/python3.7/dist-packages (from bcj-cffi<0.6.0,>=0.5.1->py7zr) (1.14.6)\n",
      "Requirement already satisfied: pycparser in /usr/local/lib/python3.7/dist-packages (from cffi>=1.14.0->bcj-cffi<0.6.0,>=0.5.1->py7zr) (2.20)\n",
      "Requirement already satisfied: typing-extensions>=3.6.4 in /usr/local/lib/python3.7/dist-packages (from importlib-metadata->py7zr) (3.7.4.3)\n",
      "Requirement already satisfied: zipp>=0.5 in /usr/local/lib/python3.7/dist-packages (from importlib-metadata->py7zr) (3.5.0)\n",
      "Installing collected packages: texttable, pyzstd, pyppmd, pycryptodomex, multivolumefile, brotli, bcj-cffi, py7zr\n",
      "Successfully installed bcj-cffi-0.5.1 brotli-1.0.9 multivolumefile-0.2.3 py7zr-0.16.1 pycryptodomex-3.10.1 pyppmd-0.15.2 pyzstd-0.14.4 texttable-1.6.4\n"
     ]
    }
   ],
   "source": [
    "%pip install py7zr\n",
    "import py7zr\n",
    "a =py7zr.SevenZipFile(r'./competitions/cifar-10/train.7z','r')\n",
    "a.extractall(path=r'./competitions/cifar-10/')\n",
    "a.close()"
   ]
  },
  {
   "cell_type": "code",
   "execution_count": 16,
   "metadata": {
    "colab": {
     "base_uri": "https://localhost:8080/"
    },
    "id": "jxHEojoXcEGX",
    "outputId": "6b679554-9305-476c-97f1-f64434b4b7bc"
   },
   "outputs": [
    {
     "name": "stdout",
     "output_type": "stream",
     "text": [
      "50000\n"
     ]
    }
   ],
   "source": [
    "!ls /content/competitions/cifar-10/train|wc -l"
   ]
  },
  {
   "cell_type": "code",
   "execution_count": null,
   "metadata": {
    "id": "sYrWDOmEcWfW"
   },
   "outputs": [],
   "source": [
    "#测试集\n",
    "a =py7zr.SevenZipFile(r'./competitions/cifar-10/test.7z','r')\n",
    "a.extractall(path=r'./competitions/cifar-10/')\n",
    "a.close()"
   ]
  },
  {
   "cell_type": "code",
   "execution_count": null,
   "metadata": {
    "colab": {
     "base_uri": "https://localhost:8080/"
    },
    "id": "o6OPszZggi_R",
    "outputId": "7e54db55-aae1-4ef7-d37a-a2ca276ba300"
   },
   "outputs": [
    {
     "name": "stdout",
     "output_type": "stream",
     "text": [
      "300000\n"
     ]
    }
   ],
   "source": [
    "!ls /content/competitions/cifar-10/test|wc -l"
   ]
  },
  {
   "cell_type": "code",
   "execution_count": null,
   "metadata": {
    "colab": {
     "base_uri": "https://localhost:8080/"
    },
    "id": "f0BwBptMgs5g",
    "outputId": "d3bfa3ae-a670-4e87-c7ab-b3d274b1341f"
   },
   "outputs": [
    {
     "name": "stdout",
     "output_type": "stream",
     "text": [
      "Archive:  ./competitions/cifar-10/sampleSubmission.csv.zip\n",
      "  inflating: /content/competitions/cifar-10/sampleSubmission.csv  \n"
     ]
    }
   ],
   "source": [
    "!unzip -o -d /content/competitions/cifar-10 ./competitions/cifar-10/sampleSubmission.csv.zip"
   ]
  },
  {
   "cell_type": "code",
   "execution_count": null,
   "metadata": {
    "colab": {
     "base_uri": "https://localhost:8080/"
    },
    "id": "RtO1NobRcQYS",
    "outputId": "3a052d5a-0320-40f2-fded-bd11e4dde4d5"
   },
   "outputs": [
    {
     "name": "stdout",
     "output_type": "stream",
     "text": [
      "[('competitions/cifar-10/train/1.png', 'frog'),\n",
      " ('competitions/cifar-10/train/2.png', 'truck'),\n",
      " ('competitions/cifar-10/train/3.png', 'truck'),\n",
      " ('competitions/cifar-10/train/4.png', 'deer'),\n",
      " ('competitions/cifar-10/train/5.png', 'automobile')]\n",
      "[('competitions/cifar-10/test/1.png', 'cat'),\n",
      " ('competitions/cifar-10/test/2.png', 'cat'),\n",
      " ('competitions/cifar-10/test/3.png', 'cat'),\n",
      " ('competitions/cifar-10/test/4.png', 'cat'),\n",
      " ('competitions/cifar-10/test/5.png', 'cat')]\n",
      "50000 300000\n"
     ]
    }
   ],
   "source": [
    "#所有的类别\n",
    "class_names = [\n",
    "    'airplane',\n",
    "    'automobile',\n",
    "    'bird',\n",
    "    'cat',\n",
    "    'deer',\n",
    "    'dog',\n",
    "    'frog',\n",
    "    'horse',\n",
    "    'ship',\n",
    "    'truck',\n",
    "]\n",
    "\n",
    "train_lables_file = 'competitions/cifar-10/trainLabels.csv'\n",
    "test_csv_file = 'competitions/cifar-10/sampleSubmission.csv'\n",
    "train_folder = 'competitions/cifar-10/train/'\n",
    "test_folder = 'competitions/cifar-10/test'\n",
    "\n",
    "def parse_csv_file(filepath, folder):\n",
    "    \"\"\"Parses csv files into (filename(path), label) format\"\"\"\n",
    "    results = []\n",
    "    #读取所有行\n",
    "    with open(filepath, 'r') as f:\n",
    "#         lines = f.readlines()  为什么加[1:]，可以试这个\n",
    "        lines = f.readlines()[1:]\n",
    "    for line in lines:\n",
    "        image_id, label_str = line.strip('\\n').split(',')\n",
    "        image_full_path = os.path.join(folder, image_id + '.png')\n",
    "        results.append((image_full_path, label_str))\n",
    "    return results\n",
    "\n",
    "#解析对应的文件夹\n",
    "train_labels_info = parse_csv_file(train_lables_file, train_folder)\n",
    "test_csv_info = parse_csv_file(test_csv_file, test_folder)\n",
    "#打印\n",
    "import pprint\n",
    "pprint.pprint(train_labels_info[0:5])\n",
    "pprint.pprint(test_csv_info[0:5])\n",
    "print(len(train_labels_info), len(test_csv_info))"
   ]
  },
  {
   "cell_type": "code",
   "execution_count": null,
   "metadata": {
    "colab": {
     "base_uri": "https://localhost:8080/"
    },
    "id": "QRMjHfbUcQYT",
    "outputId": "f6f2cf25-4326-48cd-9a61-9b5c4a3d5505"
   },
   "outputs": [
    {
     "name": "stdout",
     "output_type": "stream",
     "text": [
      "                            filepath       class\n",
      "0  competitions/cifar-10/train/1.png        frog\n",
      "1  competitions/cifar-10/train/2.png       truck\n",
      "2  competitions/cifar-10/train/3.png       truck\n",
      "3  competitions/cifar-10/train/4.png        deer\n",
      "4  competitions/cifar-10/train/5.png  automobile\n",
      "                                filepath       class\n",
      "0  competitions/cifar-10/train/45001.png       horse\n",
      "1  competitions/cifar-10/train/45002.png  automobile\n",
      "2  competitions/cifar-10/train/45003.png        deer\n",
      "3  competitions/cifar-10/train/45004.png  automobile\n",
      "4  competitions/cifar-10/train/45005.png    airplane\n",
      "                           filepath class\n",
      "0  competitions/cifar-10/test/1.png   cat\n",
      "1  competitions/cifar-10/test/2.png   cat\n",
      "2  competitions/cifar-10/test/3.png   cat\n",
      "3  competitions/cifar-10/test/4.png   cat\n",
      "4  competitions/cifar-10/test/5.png   cat\n"
     ]
    }
   ],
   "source": [
    "# train_df = pd.DataFrame(train_labels_info)\n",
    "train_df = pd.DataFrame(train_labels_info[0:45000])\n",
    "valid_df = pd.DataFrame(train_labels_info[45000:])\n",
    "test_df = pd.DataFrame(test_csv_info)\n",
    "\n",
    "train_df.columns = ['filepath', 'class']\n",
    "valid_df.columns = ['filepath', 'class']\n",
    "test_df.columns = ['filepath', 'class']\n",
    "\n",
    "print(train_df.head())\n",
    "print(valid_df.head())\n",
    "print(test_df.head())"
   ]
  },
  {
   "cell_type": "code",
   "execution_count": null,
   "metadata": {
    "colab": {
     "base_uri": "https://localhost:8080/"
    },
    "id": "RQZszrnZcQYU",
    "outputId": "c322fe5b-5c5c-4aee-f093-b6fda756dadb"
   },
   "outputs": [
    {
     "name": "stdout",
     "output_type": "stream",
     "text": [
      "Found 45000 validated image filenames belonging to 10 classes.\n",
      "Found 5000 validated image filenames belonging to 10 classes.\n",
      "45000 5000\n"
     ]
    }
   ],
   "source": [
    "height = 32\n",
    "width = 32\n",
    "channels = 3\n",
    "batch_size = 32\n",
    "num_classes = 10\n",
    "\n",
    "train_datagen = keras.preprocessing.image.ImageDataGenerator(\n",
    "    rescale = 1./255,\n",
    "    rotation_range = 40,\n",
    "    width_shift_range = 0.2,\n",
    "    height_shift_range = 0.2,\n",
    "    shear_range = 0.2,\n",
    "    zoom_range = 0.2,\n",
    "    horizontal_flip = True,\n",
    "    fill_mode = 'nearest',\n",
    ")\n",
    "train_generator = train_datagen.flow_from_dataframe(\n",
    "    train_df,\n",
    "    directory = './',\n",
    "    x_col = 'filepath',\n",
    "    y_col = 'class',\n",
    "    #讲labels转换为id\n",
    "    classes = class_names,\n",
    "    target_size = (height, width),\n",
    "    batch_size = batch_size,\n",
    "    seed = 7,\n",
    "    shuffle = True,\n",
    "    class_mode = 'sparse',\n",
    ")\n",
    "\n",
    "#和上面一致\n",
    "valid_datagen = keras.preprocessing.image.ImageDataGenerator(\n",
    "    rescale = 1./255)\n",
    "valid_generator = valid_datagen.flow_from_dataframe(\n",
    "    valid_df,\n",
    "    directory = './',\n",
    "    x_col = 'filepath',\n",
    "    y_col = 'class',\n",
    "    classes = class_names,\n",
    "    target_size = (height, width),\n",
    "    batch_size = batch_size,\n",
    "    seed = 7,\n",
    "    shuffle = False,\n",
    "    class_mode = \"sparse\")\n",
    "\n",
    "train_num = train_generator.samples\n",
    "valid_num = valid_generator.samples\n",
    "print(train_num, valid_num)"
   ]
  },
  {
   "cell_type": "code",
   "execution_count": null,
   "metadata": {
    "colab": {
     "base_uri": "https://localhost:8080/"
    },
    "id": "_IB_xO64cQYV",
    "outputId": "bd1fdf59-06c3-4b77-8e3f-724cccbce3e8"
   },
   "outputs": [
    {
     "name": "stdout",
     "output_type": "stream",
     "text": [
      "(32, 32, 32, 3) (32,)\n",
      "[2. 1. 4. 4. 4. 4. 6. 5. 2. 8. 4. 6. 6. 3. 7. 1. 7. 2. 8. 8. 3. 0. 5. 3.\n",
      " 9. 1. 4. 5. 6. 7. 9. 2.]\n",
      "(32, 32, 32, 3) (32,)\n",
      "[0. 7. 2. 7. 5. 5. 7. 0. 5. 4. 9. 7. 6. 3. 0. 4. 4. 4. 6. 3. 5. 4. 6. 6.\n",
      " 4. 1. 8. 2. 4. 4. 3. 0.]\n"
     ]
    }
   ],
   "source": [
    "for i in range(2):\n",
    "    x, y = train_generator.next()\n",
    "    print(x.shape, y.shape)\n",
    "    print(y)"
   ]
  },
  {
   "cell_type": "code",
   "execution_count": null,
   "metadata": {
    "colab": {
     "base_uri": "https://localhost:8080/"
    },
    "id": "Cqqwrl9ycQYV",
    "outputId": "1db0138a-c490-41ad-d7fa-723a974eeae6"
   },
   "outputs": [
    {
     "name": "stdout",
     "output_type": "stream",
     "text": [
      "Model: \"sequential\"\n",
      "_________________________________________________________________\n",
      "Layer (type)                 Output Shape              Param #   \n",
      "=================================================================\n",
      "conv2d (Conv2D)              (None, 32, 32, 128)       3584      \n",
      "_________________________________________________________________\n",
      "batch_normalization (BatchNo (None, 32, 32, 128)       512       \n",
      "_________________________________________________________________\n",
      "conv2d_1 (Conv2D)            (None, 32, 32, 128)       147584    \n",
      "_________________________________________________________________\n",
      "batch_normalization_1 (Batch (None, 32, 32, 128)       512       \n",
      "_________________________________________________________________\n",
      "max_pooling2d (MaxPooling2D) (None, 16, 16, 128)       0         \n",
      "_________________________________________________________________\n",
      "conv2d_2 (Conv2D)            (None, 16, 16, 256)       295168    \n",
      "_________________________________________________________________\n",
      "batch_normalization_2 (Batch (None, 16, 16, 256)       1024      \n",
      "_________________________________________________________________\n",
      "conv2d_3 (Conv2D)            (None, 16, 16, 256)       590080    \n",
      "_________________________________________________________________\n",
      "batch_normalization_3 (Batch (None, 16, 16, 256)       1024      \n",
      "_________________________________________________________________\n",
      "max_pooling2d_1 (MaxPooling2 (None, 8, 8, 256)         0         \n",
      "_________________________________________________________________\n",
      "conv2d_4 (Conv2D)            (None, 8, 8, 512)         1180160   \n",
      "_________________________________________________________________\n",
      "batch_normalization_4 (Batch (None, 8, 8, 512)         2048      \n",
      "_________________________________________________________________\n",
      "conv2d_5 (Conv2D)            (None, 8, 8, 512)         2359808   \n",
      "_________________________________________________________________\n",
      "batch_normalization_5 (Batch (None, 8, 8, 512)         2048      \n",
      "_________________________________________________________________\n",
      "max_pooling2d_2 (MaxPooling2 (None, 4, 4, 512)         0         \n",
      "_________________________________________________________________\n",
      "flatten (Flatten)            (None, 8192)              0         \n",
      "_________________________________________________________________\n",
      "dense (Dense)                (None, 512)               4194816   \n",
      "_________________________________________________________________\n",
      "dense_1 (Dense)              (None, 10)                5130      \n",
      "=================================================================\n",
      "Total params: 8,783,498\n",
      "Trainable params: 8,779,914\n",
      "Non-trainable params: 3,584\n",
      "_________________________________________________________________\n"
     ]
    }
   ],
   "source": [
    "model = keras.models.Sequential([\n",
    "    keras.layers.Conv2D(filters=128, kernel_size=3, padding='same',\n",
    "                        activation='relu', \n",
    "                        input_shape=[width, height, channels]),\n",
    "    keras.layers.BatchNormalization(),#为了是模型训练的更快\n",
    "    keras.layers.Conv2D(filters=128, kernel_size=3, padding='same',\n",
    "                        activation='relu'),\n",
    "    keras.layers.BatchNormalization(),\n",
    "    keras.layers.MaxPool2D(pool_size=2),\n",
    "    \n",
    "    keras.layers.Conv2D(filters=256, kernel_size=3, padding='same',\n",
    "                        activation='relu'),\n",
    "    keras.layers.BatchNormalization(),\n",
    "    keras.layers.Conv2D(filters=256, kernel_size=3, padding='same',\n",
    "                        activation='relu'),\n",
    "    keras.layers.BatchNormalization(),\n",
    "    keras.layers.MaxPool2D(pool_size=2),\n",
    "    keras.layers.Conv2D(filters=512, kernel_size=3, padding='same',\n",
    "                        activation='relu'),\n",
    "    keras.layers.BatchNormalization(),\n",
    "    keras.layers.Conv2D(filters=512, kernel_size=3, padding='same',\n",
    "                        activation='relu'),\n",
    "    keras.layers.BatchNormalization(),\n",
    "    keras.layers.MaxPool2D(pool_size=2),\n",
    "    keras.layers.Flatten(),\n",
    "    keras.layers.Dense(512, activation='relu'),\n",
    "    keras.layers.Dense(num_classes, activation='softmax'),\n",
    "])\n",
    "\n",
    "model.compile(loss=\"sparse_categorical_crossentropy\",\n",
    "              optimizer=\"adam\", metrics=['accuracy'])\n",
    "model.summary()"
   ]
  },
  {
   "cell_type": "code",
   "execution_count": null,
   "metadata": {
    "colab": {
     "base_uri": "https://localhost:8080/"
    },
    "id": "E2CMfhLEcQYW",
    "outputId": "316639b0-41fb-4994-f006-2ddddd89fc22"
   },
   "outputs": [
    {
     "name": "stderr",
     "output_type": "stream",
     "text": [
      "/usr/local/lib/python3.7/dist-packages/tensorflow/python/keras/engine/training.py:1844: UserWarning: `Model.fit_generator` is deprecated and will be removed in a future version. Please use `Model.fit`, which supports generators.\n",
      "  warnings.warn('`Model.fit_generator` is deprecated and '\n"
     ]
    },
    {
     "name": "stdout",
     "output_type": "stream",
     "text": [
      "Epoch 1/20\n",
      "1406/1406 [==============================] - 89s 39ms/step - loss: 2.4768 - accuracy: 0.2960 - val_loss: 1.8256 - val_accuracy: 0.4127\n",
      "Epoch 2/20\n",
      "1406/1406 [==============================] - 50s 35ms/step - loss: 1.4808 - accuracy: 0.4653 - val_loss: 1.4100 - val_accuracy: 0.5274\n",
      "Epoch 3/20\n",
      "1406/1406 [==============================] - 50s 35ms/step - loss: 1.2585 - accuracy: 0.5533 - val_loss: 1.4271 - val_accuracy: 0.5671\n",
      "Epoch 4/20\n",
      "1406/1406 [==============================] - 48s 34ms/step - loss: 1.0959 - accuracy: 0.6190 - val_loss: 0.9509 - val_accuracy: 0.6747\n",
      "Epoch 5/20\n",
      "1406/1406 [==============================] - 49s 35ms/step - loss: 0.9524 - accuracy: 0.6716 - val_loss: 0.8885 - val_accuracy: 0.7165\n",
      "Epoch 6/20\n",
      "1406/1406 [==============================] - 49s 35ms/step - loss: 0.8642 - accuracy: 0.7037 - val_loss: 1.0119 - val_accuracy: 0.7027\n",
      "Epoch 7/20\n",
      "1406/1406 [==============================] - 48s 34ms/step - loss: 0.8042 - accuracy: 0.7251 - val_loss: 0.7368 - val_accuracy: 0.7538\n",
      "Epoch 8/20\n",
      "1406/1406 [==============================] - 48s 34ms/step - loss: 0.7222 - accuracy: 0.7571 - val_loss: 0.7203 - val_accuracy: 0.7780\n",
      "Epoch 9/20\n",
      "1406/1406 [==============================] - 49s 35ms/step - loss: 0.6689 - accuracy: 0.7730 - val_loss: 0.6501 - val_accuracy: 0.7979\n",
      "Epoch 10/20\n",
      "1406/1406 [==============================] - 48s 34ms/step - loss: 0.6428 - accuracy: 0.7809 - val_loss: 0.6889 - val_accuracy: 0.7869\n",
      "Epoch 11/20\n",
      "1406/1406 [==============================] - 49s 35ms/step - loss: 0.6052 - accuracy: 0.7938 - val_loss: 0.6344 - val_accuracy: 0.8019\n",
      "Epoch 12/20\n",
      "1406/1406 [==============================] - 50s 35ms/step - loss: 0.5787 - accuracy: 0.8009 - val_loss: 0.6783 - val_accuracy: 0.7955\n",
      "Epoch 13/20\n",
      "1406/1406 [==============================] - 48s 34ms/step - loss: 0.5575 - accuracy: 0.8108 - val_loss: 0.4968 - val_accuracy: 0.8411\n",
      "Epoch 14/20\n",
      "1406/1406 [==============================] - 48s 34ms/step - loss: 0.5326 - accuracy: 0.8203 - val_loss: 0.5748 - val_accuracy: 0.8269\n",
      "Epoch 15/20\n",
      "1406/1406 [==============================] - 48s 34ms/step - loss: 0.5065 - accuracy: 0.8259 - val_loss: 0.5416 - val_accuracy: 0.8335\n",
      "Epoch 16/20\n",
      "1406/1406 [==============================] - 48s 34ms/step - loss: 0.4928 - accuracy: 0.8321 - val_loss: 0.5504 - val_accuracy: 0.8253\n",
      "Epoch 17/20\n",
      "1406/1406 [==============================] - 48s 34ms/step - loss: 0.4607 - accuracy: 0.8443 - val_loss: 0.5213 - val_accuracy: 0.8335\n",
      "Epoch 18/20\n",
      "1406/1406 [==============================] - 48s 34ms/step - loss: 0.4677 - accuracy: 0.8424 - val_loss: 0.4636 - val_accuracy: 0.8550\n",
      "Epoch 19/20\n",
      "1406/1406 [==============================] - 48s 34ms/step - loss: 0.4408 - accuracy: 0.8510 - val_loss: 0.4557 - val_accuracy: 0.8630\n",
      "Epoch 20/20\n",
      "1406/1406 [==============================] - 48s 34ms/step - loss: 0.4350 - accuracy: 0.8534 - val_loss: 0.4686 - val_accuracy: 0.8496\n"
     ]
    }
   ],
   "source": [
    "epochs = 20\n",
    "history = model.fit_generator(train_generator,\n",
    "                              steps_per_epoch = train_num // batch_size,\n",
    "                              epochs = epochs,\n",
    "                              validation_data = valid_generator,\n",
    "                              validation_steps = valid_num // batch_size)"
   ]
  },
  {
   "cell_type": "code",
   "execution_count": null,
   "metadata": {
    "colab": {
     "base_uri": "https://localhost:8080/",
     "height": 669
    },
    "id": "mRzGnOEtcQYX",
    "outputId": "5fc08e2a-b1d3-495a-ab70-20732adb3049"
   },
   "outputs": [
    {
     "name": "stdout",
     "output_type": "stream",
     "text": [
      "{'loss': [1.8540828227996826, 1.416763186454773, 1.213291049003601, 1.068687081336975, 0.9410074353218079, 0.852234959602356, 0.7878528833389282, 0.7165282368659973, 0.6755282282829285, 0.64002525806427, 0.6060716509819031, 0.5788384675979614, 0.5560576319694519, 0.53462153673172, 0.5110576748847961, 0.49622586369514465, 0.47375330328941345, 0.4681094288825989, 0.444454163312912, 0.43600010871887207], 'accuracy': [0.3599226176738739, 0.489881694316864, 0.571962296962738, 0.6262675523757935, 0.6756804585456848, 0.7087706923484802, 0.731431245803833, 0.7564935088157654, 0.7706813812255859, 0.7822229266166687, 0.7934086322784424, 0.8017034530639648, 0.8105319142341614, 0.8192047476768494, 0.825942873954773, 0.8318359851837158, 0.8383517265319824, 0.841620683670044, 0.8490926623344421, 0.8532512187957764], 'val_loss': [1.8256393671035767, 1.4100003242492676, 1.4271239042282104, 0.9509029984474182, 0.8884903192520142, 1.0119094848632812, 0.7368106842041016, 0.7203167676925659, 0.6501088738441467, 0.6888848543167114, 0.6344102025032043, 0.6782528162002563, 0.49683526158332825, 0.5747973322868347, 0.5415539145469666, 0.5503977537155151, 0.5212619304656982, 0.4636470079421997, 0.4557327926158905, 0.4686160087585449], 'val_accuracy': [0.41266027092933655, 0.5274438858032227, 0.5671073794364929, 0.6746794581413269, 0.7165464758872986, 0.7027243375778198, 0.7538061141967773, 0.7780448794364929, 0.7978765964508057, 0.7868589758872986, 0.8018830418586731, 0.7954727411270142, 0.8411458134651184, 0.8269230723381042, 0.8335336446762085, 0.8253205418586731, 0.8335336446762085, 0.8549679517745972, 0.8629807829856873, 0.8495593070983887]}\n"
     ]
    },
    {
     "data": {
      "image/png": "[encoded data removed]",
      "text/plain": [
       "<Figure size 576x360 with 1 Axes>"
      ]
     },
     "metadata": {
      "needs_background": "light",
      "tags": []
     },
     "output_type": "display_data"
    },
    {
     "data": {
      "image/png": "[encoded data removed]",
      "text/plain": [
       "<Figure size 576x360 with 1 Axes>"
      ]
     },
     "metadata": {
      "needs_background": "light",
      "tags": []
     },
     "output_type": "display_data"
    }
   ],
   "source": [
    "print(history.history)\n",
    "def plot_learning_curves(history, label, epcohs, min_value, max_value):\n",
    "    data = {}\n",
    "    data[label] = history.history[label]\n",
    "    data['val_'+label] = history.history['val_'+label]\n",
    "    pd.DataFrame(data).plot(figsize=(8, 5))\n",
    "    plt.grid(True)\n",
    "    plt.axis([0, epochs, min_value, max_value])\n",
    "    plt.show()\n",
    "    \n",
    "plot_learning_curves(history, 'accuracy', epochs, 0, 1)\n",
    "plot_learning_curves(history, 'loss', epochs, 0, 2)"
   ]
  },
  {
   "cell_type": "code",
   "execution_count": null,
   "metadata": {
    "colab": {
     "base_uri": "https://localhost:8080/"
    },
    "id": "f8yiLEO6cQYX",
    "outputId": "89f5515a-9538-4842-da0a-1e801edab0e0"
   },
   "outputs": [
    {
     "name": "stdout",
     "output_type": "stream",
     "text": [
      "Found 300000 validated image filenames belonging to 10 classes.\n",
      "300000\n"
     ]
    }
   ],
   "source": [
    "test_datagen = keras.preprocessing.image.ImageDataGenerator(\n",
    "    rescale = 1./255)\n",
    "test_generator = valid_datagen.flow_from_dataframe(\n",
    "    test_df,\n",
    "    directory = './',\n",
    "    x_col = 'filepath',\n",
    "    y_col = 'class',\n",
    "    classes = class_names,\n",
    "    target_size = (height, width),\n",
    "    batch_size = batch_size,\n",
    "    seed = 7,\n",
    "    shuffle = False,\n",
    "    class_mode = \"sparse\")\n",
    "test_num = test_generator.samples\n",
    "print(test_num)"
   ]
  },
  {
   "cell_type": "code",
   "execution_count": null,
   "metadata": {
    "colab": {
     "base_uri": "https://localhost:8080/"
    },
    "id": "U9xh0XHjcQYY",
    "outputId": "fd8c796d-a0ad-4182-d168-41a9c03497df"
   },
   "outputs": [
    {
     "name": "stderr",
     "output_type": "stream",
     "text": [
      "/usr/local/lib/python3.7/dist-packages/tensorflow/python/keras/engine/training.py:1905: UserWarning: `Model.predict_generator` is deprecated and will be removed in a future version. Please use `Model.predict`, which supports generators.\n",
      "  warnings.warn('`Model.predict_generator` is deprecated and '\n"
     ]
    },
    {
     "name": "stdout",
     "output_type": "stream",
     "text": [
      "WARNING:tensorflow:multiprocessing can interact badly with TensorFlow, causing nondeterministic deadlocks. For high performance data pipelines tf.data is recommended.\n"
     ]
    }
   ],
   "source": [
    "#这里运行时间太久，等上了GPU再说\n",
    "test_predict = model.predict_generator(test_generator,\n",
    "                                       workers = 3,\n",
    "                                       use_multiprocessing = True)"
   ]
  },
  {
   "cell_type": "code",
   "execution_count": null,
   "metadata": {
    "colab": {
     "base_uri": "https://localhost:8080/"
    },
    "id": "Bap3Z-tXcQYY",
    "outputId": "731b3bd5-1a93-4477-ac50-61c819370e31"
   },
   "outputs": [
    {
     "name": "stdout",
     "output_type": "stream",
     "text": [
      "(300000, 10)\n"
     ]
    }
   ],
   "source": [
    "print(test_predict.shape)"
   ]
  },
  {
   "cell_type": "code",
   "execution_count": null,
   "metadata": {
    "colab": {
     "base_uri": "https://localhost:8080/"
    },
    "id": "_xRdjEBocQYZ",
    "outputId": "0fda97f5-d3fe-4682-abe3-87264cc2a917"
   },
   "outputs": [
    {
     "name": "stdout",
     "output_type": "stream",
     "text": [
      "[[2.4849296e-02 5.0397746e-02 1.2561632e-02 1.4841009e-02 5.7477966e-02\n",
      "  8.9358306e-03 1.6829580e-02 8.6065112e-03 8.3252378e-03 7.9717517e-01]\n",
      " [9.9523634e-01 1.1593577e-04 2.3513830e-03 2.8329884e-04 4.4506174e-04\n",
      "  2.2991333e-05 2.0133718e-04 5.9952887e-05 1.0730857e-03 2.1068346e-04]\n",
      " [1.1804236e-04 4.3381551e-01 6.4012465e-06 7.2206271e-06 2.0333023e-06\n",
      "  2.7767894e-06 3.2136068e-05 3.4775935e-06 1.2567935e-05 5.6599987e-01]\n",
      " [3.9605456e-04 2.5288986e-05 9.5391215e-07 3.8302264e-07 9.9712440e-07\n",
      "  1.8704438e-07 5.2466049e-07 1.7156383e-07 9.9953616e-01 3.9359162e-05]\n",
      " [9.9915433e-01 3.8812154e-06 4.5432715e-04 3.3686661e-05 1.1012247e-04\n",
      "  2.6094824e-06 1.6186637e-05 1.9951398e-05 1.9850496e-04 6.4024243e-06]]\n"
     ]
    }
   ],
   "source": [
    "print(test_predict[0:5])"
   ]
  },
  {
   "cell_type": "code",
   "execution_count": null,
   "metadata": {
    "id": "E_2GxNDIcQYZ"
   },
   "outputs": [],
   "source": [
    "test_predict_class_indices = np.argmax(test_predict, axis = 1)"
   ]
  },
  {
   "cell_type": "code",
   "execution_count": null,
   "metadata": {
    "colab": {
     "base_uri": "https://localhost:8080/"
    },
    "id": "xM0A3hBicQYZ",
    "outputId": "46af2f67-e905-4335-b8e1-4b50aef1844f"
   },
   "outputs": [
    {
     "name": "stdout",
     "output_type": "stream",
     "text": [
      "[9 0 9 8 0]\n"
     ]
    }
   ],
   "source": [
    "print(test_predict_class_indices[0:5])"
   ]
  },
  {
   "cell_type": "code",
   "execution_count": null,
   "metadata": {
    "id": "-QhBtxE2cQYZ"
   },
   "outputs": [],
   "source": [
    "test_predict_class = [class_names[index] for index in test_predict_class_indices]"
   ]
  },
  {
   "cell_type": "code",
   "execution_count": null,
   "metadata": {
    "colab": {
     "base_uri": "https://localhost:8080/"
    },
    "id": "9UcaE4OvcQYa",
    "outputId": "dc1bd131-0cf3-4b02-e72c-8e0e15a98305"
   },
   "outputs": [
    {
     "name": "stdout",
     "output_type": "stream",
     "text": [
      "['truck', 'airplane', 'truck', 'ship', 'airplane']\n"
     ]
    }
   ],
   "source": [
    "print(test_predict_class[0:5])"
   ]
  },
  {
   "cell_type": "code",
   "execution_count": null,
   "metadata": {
    "id": "HJqU2T2McQYa"
   },
   "outputs": [],
   "source": [
    "#产生最终的报告\n",
    "def generate_submissions(filename, predict_class):\n",
    "  with open(filename, 'w') as f:\n",
    "    f.write('id,label\\n')\n",
    "    for i in range(len(predict_class)):\n",
    "      f.write('%d,%s\\n' % (i+1, predict_class[i]))\n",
    "\n",
    "output_file = \"./submission.csv\"\n",
    "generate_submissions(output_file, test_predict_class)"
   ]
  },
  {
   "cell_type": "code",
   "execution_count": null,
   "metadata": {
    "colab": {
     "base_uri": "https://localhost:8080/"
    },
    "id": "e6YfIry9cQYa",
    "outputId": "04ebd833-ad23-42a6-be34-7aba2746d9f4"
   },
   "outputs": [
    {
     "name": "stdout",
     "output_type": "stream",
     "text": [
      "competitions  datasets\tkaggle.json  sample_data  submission.csv\n"
     ]
    }
   ],
   "source": [
    "!ls"
   ]
  },
  {
   "cell_type": "markdown",
   "metadata": {
    "id": "QPihJQSPHFRx"
   },
   "source": [
    "# 新段落"
   ]
  },
  {
   "cell_type": "markdown",
   "metadata": {
    "id": "t9KSz2G2Wczk"
   },
   "source": [
    "# 新段落"
   ]
  },
  {
   "cell_type": "markdown",
   "metadata": {
    "id": "JI93tvDHWdKy"
   },
   "source": [
    "# 新段落"
   ]
  }
 ],
 "metadata": {
  "accelerator": "GPU",
  "colab": {
   "collapsed_sections": [],
   "name": "tf6_cifar10_model_1.ipynb",
   "provenance": []
  },
  "kernelspec": {
   "display_name": "Python 3",
   "language": "python",
   "name": "python3"
  },
  "language_info": {
   "codemirror_mode": {
    "name": "ipython",
    "version": 3
   },
   "file_extension": ".py",
   "mimetype": "text/x-python",
   "name": "python",
   "nbconvert_exporter": "python",
   "pygments_lexer": "ipython3",
   "version": "3.8.4"
  }
 },
 "nbformat": 4,
 "nbformat_minor": 1
}
